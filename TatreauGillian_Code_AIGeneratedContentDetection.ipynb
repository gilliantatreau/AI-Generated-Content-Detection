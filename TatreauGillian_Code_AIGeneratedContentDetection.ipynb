{
 "cells": [
  {
   "cell_type": "markdown",
   "id": "9b97b16f",
   "metadata": {},
   "source": [
    "# AI-Generated Content Detection\n",
    "# Gillian Tatreau"
   ]
  },
  {
   "cell_type": "markdown",
   "id": "f74de1aa",
   "metadata": {},
   "source": [
    "### Load libraries"
   ]
  },
  {
   "cell_type": "code",
   "execution_count": 1,
   "id": "b3ff042e",
   "metadata": {},
   "outputs": [],
   "source": [
    "# load libraries\n",
    "import pandas as pd\n",
    "import numpy as np\n",
    "import matplotlib.pyplot as plt\n",
    "import re\n",
    "import warnings"
   ]
  },
  {
   "cell_type": "code",
   "execution_count": 2,
   "id": "86f24b1e",
   "metadata": {},
   "outputs": [],
   "source": [
    "warnings.filterwarnings(\"ignore\")"
   ]
  },
  {
   "cell_type": "markdown",
   "id": "30137c31",
   "metadata": {},
   "source": [
    "### Load data"
   ]
  },
  {
   "cell_type": "code",
   "execution_count": 3,
   "id": "231afc84",
   "metadata": {},
   "outputs": [
    {
     "data": {
      "text/html": [
       "<div>\n",
       "<style scoped>\n",
       "    .dataframe tbody tr th:only-of-type {\n",
       "        vertical-align: middle;\n",
       "    }\n",
       "\n",
       "    .dataframe tbody tr th {\n",
       "        vertical-align: top;\n",
       "    }\n",
       "\n",
       "    .dataframe thead th {\n",
       "        text-align: right;\n",
       "    }\n",
       "</style>\n",
       "<table border=\"1\" class=\"dataframe\">\n",
       "  <thead>\n",
       "    <tr style=\"text-align: right;\">\n",
       "      <th></th>\n",
       "      <th>text</th>\n",
       "      <th>generated</th>\n",
       "    </tr>\n",
       "  </thead>\n",
       "  <tbody>\n",
       "    <tr>\n",
       "      <th>0</th>\n",
       "      <td>Cars. Cars have been around since they became ...</td>\n",
       "      <td>0.0</td>\n",
       "    </tr>\n",
       "    <tr>\n",
       "      <th>1</th>\n",
       "      <td>Transportation is a large necessity in most co...</td>\n",
       "      <td>0.0</td>\n",
       "    </tr>\n",
       "    <tr>\n",
       "      <th>2</th>\n",
       "      <td>\"America's love affair with it's vehicles seem...</td>\n",
       "      <td>0.0</td>\n",
       "    </tr>\n",
       "    <tr>\n",
       "      <th>3</th>\n",
       "      <td>How often do you ride in a car? Do you drive a...</td>\n",
       "      <td>0.0</td>\n",
       "    </tr>\n",
       "    <tr>\n",
       "      <th>4</th>\n",
       "      <td>Cars are a wonderful thing. They are perhaps o...</td>\n",
       "      <td>0.0</td>\n",
       "    </tr>\n",
       "  </tbody>\n",
       "</table>\n",
       "</div>"
      ],
      "text/plain": [
       "                                                text  generated\n",
       "0  Cars. Cars have been around since they became ...        0.0\n",
       "1  Transportation is a large necessity in most co...        0.0\n",
       "2  \"America's love affair with it's vehicles seem...        0.0\n",
       "3  How often do you ride in a car? Do you drive a...        0.0\n",
       "4  Cars are a wonderful thing. They are perhaps o...        0.0"
      ]
     },
     "execution_count": 3,
     "metadata": {},
     "output_type": "execute_result"
    }
   ],
   "source": [
    "# load data\n",
    "df = pd.read_csv(\"/Users/gillian/Documents/Bellevue Grad Program/Winter 2023-24/Project 3/AI_Human.csv\")\n",
    "# display first 5 rows\n",
    "df.head()"
   ]
  },
  {
   "cell_type": "markdown",
   "id": "ba52d5db",
   "metadata": {},
   "source": [
    "### EDA"
   ]
  },
  {
   "cell_type": "code",
   "execution_count": 4,
   "id": "fc88312d",
   "metadata": {},
   "outputs": [
    {
     "data": {
      "text/plain": [
       "text          object\n",
       "generated    float64\n",
       "dtype: object"
      ]
     },
     "execution_count": 4,
     "metadata": {},
     "output_type": "execute_result"
    }
   ],
   "source": [
    "# display data types\n",
    "df.dtypes"
   ]
  },
  {
   "cell_type": "code",
   "execution_count": 5,
   "id": "508318c0",
   "metadata": {},
   "outputs": [
    {
     "data": {
      "text/plain": [
       "487235"
      ]
     },
     "execution_count": 5,
     "metadata": {},
     "output_type": "execute_result"
    }
   ],
   "source": [
    "# number of texts in df\n",
    "len(df)"
   ]
  },
  {
   "cell_type": "code",
   "execution_count": 6,
   "id": "e3089d7b",
   "metadata": {},
   "outputs": [
    {
     "data": {
      "text/plain": [
       "305797"
      ]
     },
     "execution_count": 6,
     "metadata": {},
     "output_type": "execute_result"
    }
   ],
   "source": [
    "# number of human generated texts\n",
    "len(df[df['generated'] == 0])"
   ]
  },
  {
   "cell_type": "code",
   "execution_count": 7,
   "id": "635e7575",
   "metadata": {},
   "outputs": [
    {
     "data": {
      "text/plain": [
       "181438"
      ]
     },
     "execution_count": 7,
     "metadata": {},
     "output_type": "execute_result"
    }
   ],
   "source": [
    "# number of AI generated texts\n",
    "len(df[df['generated'] == 1])"
   ]
  },
  {
   "cell_type": "code",
   "execution_count": 8,
   "id": "9f9dcbae",
   "metadata": {},
   "outputs": [
    {
     "data": {
      "image/png": "[encoded data removed]",
      "text/plain": [
       "<Figure size 640x480 with 1 Axes>"
      ]
     },
     "metadata": {},
     "output_type": "display_data"
    }
   ],
   "source": [
    "# dictionary for barplot\n",
    "bar = {'human-generated texts': 305797, 'AI-generated texts': 181438}\n",
    "\n",
    "# bar plot\n",
    "plt.bar(list(bar.keys()), list(bar.values())) \n",
    "plt.xlabel(\"Origin of text\")\n",
    "plt.ylabel(\"Number of texts\")\n",
    "plt.title(\"Number of texts per source\")\n",
    "# plt.savefig(\"barplot.png\")\n",
    "plt.show()"
   ]
  },
  {
   "cell_type": "markdown",
   "id": "2e7e9c8f",
   "metadata": {},
   "source": [
    "##### Remove rows where text does not contain a period"
   ]
  },
  {
   "cell_type": "code",
   "execution_count": 9,
   "id": "e7fd44c5",
   "metadata": {},
   "outputs": [],
   "source": [
    "texts = df['text']"
   ]
  },
  {
   "cell_type": "code",
   "execution_count": 10,
   "id": "1d8c81f4",
   "metadata": {
    "scrolled": true
   },
   "outputs": [],
   "source": [
    "# empty list\n",
    "empty_text = []\n",
    "# iterate over every row of text\n",
    "for text in texts:\n",
    "    # count number of periods\n",
    "    empty = text.count('.')\n",
    "    empty_text.append(empty)"
   ]
  },
  {
   "cell_type": "code",
   "execution_count": 11,
   "id": "4cff344f",
   "metadata": {},
   "outputs": [
    {
     "data": {
      "text/plain": [
       "372"
      ]
     },
     "execution_count": 11,
     "metadata": {},
     "output_type": "execute_result"
    }
   ],
   "source": [
    "# add column empty_list to df\n",
    "df['empty_text'] = empty_text\n",
    "# subset of df where all rows have no periods\n",
    "text_empty = df[df['empty_text'] < 1]\n",
    "# length of subset\n",
    "len(text_empty)"
   ]
  },
  {
   "cell_type": "code",
   "execution_count": 12,
   "id": "638b6fca",
   "metadata": {},
   "outputs": [
    {
     "data": {
      "text/plain": [
       "79"
      ]
     },
     "execution_count": 12,
     "metadata": {},
     "output_type": "execute_result"
    }
   ],
   "source": [
    "# number of rows of AI generated text without periods\n",
    "len(text_empty[text_empty['generated'] == 1])"
   ]
  },
  {
   "cell_type": "code",
   "execution_count": 13,
   "id": "ed3f4c21",
   "metadata": {},
   "outputs": [
    {
     "data": {
      "text/plain": [
       "293"
      ]
     },
     "execution_count": 13,
     "metadata": {},
     "output_type": "execute_result"
    }
   ],
   "source": [
    "# number of rows of human generated text without periods\n",
    "len(text_empty[text_empty['generated'] == 0])"
   ]
  },
  {
   "cell_type": "code",
   "execution_count": 14,
   "id": "dbfe5afd",
   "metadata": {},
   "outputs": [],
   "source": [
    "# remove rows without periods\n",
    "df1 = df.drop(text_empty.index)"
   ]
  },
  {
   "cell_type": "markdown",
   "id": "8d32686e",
   "metadata": {},
   "source": [
    "#### Number of words per sentence, number of sentences per text"
   ]
  },
  {
   "cell_type": "code",
   "execution_count": 15,
   "id": "4e8b1296",
   "metadata": {},
   "outputs": [
    {
     "name": "stdout",
     "output_type": "stream",
     "text": [
      "24.375\n"
     ]
    }
   ],
   "source": [
    "# text from first entry\n",
    "s = df1['text'][0]\n",
    "# list of number of words per sentence\n",
    "parts = [len(l.split()) for l in re.split(r'[?!.]', s) if l.strip()]\n",
    "# prints average words per sentence for text entry\n",
    "print(sum(parts)/len(parts))"
   ]
  },
  {
   "cell_type": "code",
   "execution_count": 16,
   "id": "90ebe138",
   "metadata": {},
   "outputs": [],
   "source": [
    "entries = df1['text']"
   ]
  },
  {
   "cell_type": "code",
   "execution_count": 17,
   "id": "2ca4fe98",
   "metadata": {
    "scrolled": true
   },
   "outputs": [],
   "source": [
    "# empty list\n",
    "words_per_sent = []\n",
    "num_sent = []\n",
    "# iterate over all rows\n",
    "for entrie in entries:\n",
    "    parts = [len(l.split()) for l in re.split(r'[?!.]', entrie) if l.strip()]\n",
    "    word_sent = (sum(parts)/len(parts))\n",
    "    words_per_sent.append(word_sent)\n",
    "    num_sent.append(len(parts))"
   ]
  },
  {
   "cell_type": "code",
   "execution_count": 18,
   "id": "32bac691",
   "metadata": {
    "scrolled": true
   },
   "outputs": [],
   "source": [
    "# add words_per_sentence column\n",
    "df1['words_per_sentence'] = words_per_sent\n",
    "# add number_sentences column\n",
    "df1['number_sentences'] = num_sent\n",
    "# drop empty_text column\n",
    "df1 = df1.drop(['empty_text'], axis = 1)"
   ]
  },
  {
   "cell_type": "code",
   "execution_count": 19,
   "id": "8b12cd86",
   "metadata": {},
   "outputs": [
    {
     "data": {
      "text/html": [
       "<div>\n",
       "<style scoped>\n",
       "    .dataframe tbody tr th:only-of-type {\n",
       "        vertical-align: middle;\n",
       "    }\n",
       "\n",
       "    .dataframe tbody tr th {\n",
       "        vertical-align: top;\n",
       "    }\n",
       "\n",
       "    .dataframe thead th {\n",
       "        text-align: right;\n",
       "    }\n",
       "</style>\n",
       "<table border=\"1\" class=\"dataframe\">\n",
       "  <thead>\n",
       "    <tr style=\"text-align: right;\">\n",
       "      <th></th>\n",
       "      <th>text</th>\n",
       "      <th>generated</th>\n",
       "      <th>words_per_sentence</th>\n",
       "      <th>number_sentences</th>\n",
       "    </tr>\n",
       "  </thead>\n",
       "  <tbody>\n",
       "    <tr>\n",
       "      <th>0</th>\n",
       "      <td>Cars. Cars have been around since they became ...</td>\n",
       "      <td>0.0</td>\n",
       "      <td>24.375000</td>\n",
       "      <td>24</td>\n",
       "    </tr>\n",
       "    <tr>\n",
       "      <th>1</th>\n",
       "      <td>Transportation is a large necessity in most co...</td>\n",
       "      <td>0.0</td>\n",
       "      <td>17.111111</td>\n",
       "      <td>27</td>\n",
       "    </tr>\n",
       "    <tr>\n",
       "      <th>2</th>\n",
       "      <td>\"America's love affair with it's vehicles seem...</td>\n",
       "      <td>0.0</td>\n",
       "      <td>15.500000</td>\n",
       "      <td>48</td>\n",
       "    </tr>\n",
       "    <tr>\n",
       "      <th>3</th>\n",
       "      <td>How often do you ride in a car? Do you drive a...</td>\n",
       "      <td>0.0</td>\n",
       "      <td>13.607843</td>\n",
       "      <td>51</td>\n",
       "    </tr>\n",
       "    <tr>\n",
       "      <th>4</th>\n",
       "      <td>Cars are a wonderful thing. They are perhaps o...</td>\n",
       "      <td>0.0</td>\n",
       "      <td>17.117647</td>\n",
       "      <td>51</td>\n",
       "    </tr>\n",
       "  </tbody>\n",
       "</table>\n",
       "</div>"
      ],
      "text/plain": [
       "                                                text  generated  \\\n",
       "0  Cars. Cars have been around since they became ...        0.0   \n",
       "1  Transportation is a large necessity in most co...        0.0   \n",
       "2  \"America's love affair with it's vehicles seem...        0.0   \n",
       "3  How often do you ride in a car? Do you drive a...        0.0   \n",
       "4  Cars are a wonderful thing. They are perhaps o...        0.0   \n",
       "\n",
       "   words_per_sentence  number_sentences  \n",
       "0           24.375000                24  \n",
       "1           17.111111                27  \n",
       "2           15.500000                48  \n",
       "3           13.607843                51  \n",
       "4           17.117647                51  "
      ]
     },
     "execution_count": 19,
     "metadata": {},
     "output_type": "execute_result"
    }
   ],
   "source": [
    "# first 5 rows of df\n",
    "df1.head()"
   ]
  },
  {
   "cell_type": "code",
   "execution_count": 20,
   "id": "9bc2b84c",
   "metadata": {},
   "outputs": [
    {
     "data": {
      "text/plain": [
       "count    486863.000000\n",
       "mean         20.363180\n",
       "std          10.393982\n",
       "min           1.250000\n",
       "25%          16.300000\n",
       "50%          19.103448\n",
       "75%          22.260870\n",
       "max         727.000000\n",
       "Name: words_per_sentence, dtype: float64"
      ]
     },
     "execution_count": 20,
     "metadata": {},
     "output_type": "execute_result"
    }
   ],
   "source": [
    "# summary statistics of words_per_sentence\n",
    "df1['words_per_sentence'].describe()"
   ]
  },
  {
   "cell_type": "code",
   "execution_count": 21,
   "id": "05c1478a",
   "metadata": {},
   "outputs": [
    {
     "data": {
      "text/plain": [
       "count    486863.000000\n",
       "mean         20.676051\n",
       "std           9.189953\n",
       "min           1.000000\n",
       "25%          14.000000\n",
       "50%          20.000000\n",
       "75%          26.000000\n",
       "max         155.000000\n",
       "Name: number_sentences, dtype: float64"
      ]
     },
     "execution_count": 21,
     "metadata": {},
     "output_type": "execute_result"
    }
   ],
   "source": [
    "# summary statistics for number_sentences\n",
    "df1['number_sentences'].describe()"
   ]
  },
  {
   "cell_type": "markdown",
   "id": "3404b5cc",
   "metadata": {},
   "source": [
    "#### Distribution of words_per_sentence variable"
   ]
  },
  {
   "cell_type": "code",
   "execution_count": 22,
   "id": "366af309",
   "metadata": {},
   "outputs": [
    {
     "data": {
      "image/png": "[encoded data removed]",
      "text/plain": [
       "<Figure size 640x480 with 1 Axes>"
      ]
     },
     "metadata": {},
     "output_type": "display_data"
    }
   ],
   "source": [
    "# histogram of words_per_sentence\n",
    "plt.hist(df1['words_per_sentence'], range = (0,75))\n",
    "plt.xlabel('Average Number of Words per Sentence')\n",
    "plt.ylabel('Frequency')\n",
    "plt.title('Average Number of Words per Sentence for  All Text')\n",
    "# plt.savefig(\"hist-words_per_sent.png\")\n",
    "plt.show()"
   ]
  },
  {
   "cell_type": "code",
   "execution_count": 23,
   "id": "11d319c4",
   "metadata": {},
   "outputs": [],
   "source": [
    "# dataframes for each origin\n",
    "human = df1[df1['generated'] == 0]\n",
    "ai = df1[df1['generated'] == 1]"
   ]
  },
  {
   "cell_type": "code",
   "execution_count": 24,
   "id": "a3622292",
   "metadata": {},
   "outputs": [
    {
     "data": {
      "image/png": "[encoded data removed]",
      "text/plain": [
       "<Figure size 640x480 with 1 Axes>"
      ]
     },
     "metadata": {},
     "output_type": "display_data"
    }
   ],
   "source": [
    "# histogram of words_per_sentence, with differentiation between origin sources\n",
    "plt.hist([human['words_per_sentence'], ai['words_per_sentence']], range = (0,75), stacked=True, color=['green', 'grey'], edgecolor='black')\n",
    "plt.xlabel('Average Number of Words per Sentence')\n",
    "plt.ylabel('Frequency')\n",
    "plt.title('Average Number of Words per Sentence for Human and AI-Generated Text')\n",
    "plt.legend(['Human-Generated', 'AI-Generated'])\n",
    "# plt.savefig(\"hist_words_per_sent_diff.png\")\n",
    "plt.show()"
   ]
  },
  {
   "cell_type": "markdown",
   "id": "007ea48a",
   "metadata": {},
   "source": [
    "#### Distribution of number_sentences variable"
   ]
  },
  {
   "cell_type": "code",
   "execution_count": 25,
   "id": "5a5df4c1",
   "metadata": {},
   "outputs": [
    {
     "data": {
      "image/png": "[encoded data removed]",
      "text/plain": [
       "<Figure size 640x480 with 1 Axes>"
      ]
     },
     "metadata": {},
     "output_type": "display_data"
    }
   ],
   "source": [
    "# histogram of number_sentences\n",
    "plt.hist(df1['number_sentences'], bins = 20)\n",
    "plt.xlabel('Number of Sentences')\n",
    "plt.ylabel('Frequency')\n",
    "plt.title('Number of Sentences for  All Text')\n",
    "# plt.savefig(\"hist_num_sent.png\")\n",
    "plt.show()"
   ]
  },
  {
   "cell_type": "code",
   "execution_count": 26,
   "id": "0361a43b",
   "metadata": {},
   "outputs": [
    {
     "data": {
      "image/png": "[encoded data removed]",
      "text/plain": [
       "<Figure size 640x480 with 1 Axes>"
      ]
     },
     "metadata": {},
     "output_type": "display_data"
    }
   ],
   "source": [
    "# histogram of number_sentences, with differentiation between origin sources\n",
    "plt.hist([human['number_sentences'], ai['number_sentences']], bins = 20, stacked=True, color=['green', 'grey'], edgecolor='black')\n",
    "plt.xlabel('Number of Sentences')\n",
    "plt.ylabel('Frequency')\n",
    "plt.title('Number of Sentences in Human and AI-Generated Text')\n",
    "plt.legend(['Human-Generated', 'AI-Generated'])\n",
    "# plt.savefig(\"hist_num_sent_diff.png\")\n",
    "plt.show()"
   ]
  },
  {
   "cell_type": "markdown",
   "id": "2944ccfe",
   "metadata": {},
   "source": [
    "### Models based on Sentence Length and Variation"
   ]
  },
  {
   "cell_type": "markdown",
   "id": "278a233e",
   "metadata": {},
   "source": [
    "#### Load Libraries"
   ]
  },
  {
   "cell_type": "code",
   "execution_count": 27,
   "id": "9e5b3413",
   "metadata": {},
   "outputs": [],
   "source": [
    "from sklearn.model_selection import RandomizedSearchCV, train_test_split\n",
    "from sklearn.preprocessing import StandardScaler\n",
    "from sklearn.dummy import DummyClassifier\n",
    "from sklearn.linear_model import LogisticRegression\n",
    "from sklearn import metrics\n",
    "from sklearn.naive_bayes import GaussianNB\n",
    "from sklearn.ensemble import RandomForestClassifier\n",
    "from sklearn.svm import SVC\n",
    "from scipy.stats import randint"
   ]
  },
  {
   "cell_type": "markdown",
   "id": "ff37f2d5",
   "metadata": {},
   "source": [
    "#### Split Test/Train Data"
   ]
  },
  {
   "cell_type": "code",
   "execution_count": 28,
   "id": "e2b29724",
   "metadata": {},
   "outputs": [],
   "source": [
    "x = df1[['words_per_sentence', 'number_sentences']]\n",
    "y = df1[\"generated\"]\n",
    "x_train, x_test, y_train, y_test = train_test_split(x, y, random_state = 42, train_size = 0.80)"
   ]
  },
  {
   "cell_type": "markdown",
   "id": "e07e18ec",
   "metadata": {},
   "source": [
    "#### Standardize data"
   ]
  },
  {
   "cell_type": "code",
   "execution_count": 29,
   "id": "421e0dc0",
   "metadata": {},
   "outputs": [],
   "source": [
    "# instance of the StandardScaler\n",
    "sc = StandardScaler()\n",
    "# fit the scaler to the data\n",
    "x_train_norm = sc.fit_transform(x_train)\n",
    "# transform the data using the scaler\n",
    "x_test_norm = sc.transform(x_test)"
   ]
  },
  {
   "cell_type": "markdown",
   "id": "9e2920e7",
   "metadata": {},
   "source": [
    "#### Baseline Dummy Classifier Model"
   ]
  },
  {
   "cell_type": "code",
   "execution_count": 30,
   "id": "183bdcbe",
   "metadata": {},
   "outputs": [
    {
     "data": {
      "text/plain": [
       "0.6260359647951691"
      ]
     },
     "execution_count": 30,
     "metadata": {},
     "output_type": "execute_result"
    }
   ],
   "source": [
    "# create baseline model using dummy classifier\n",
    "dummy = DummyClassifier()\n",
    "# train dummy model\n",
    "dummy.fit(x_train_norm, y_train)\n",
    "# get accuracy score\n",
    "dummy.score(x_test_norm, y_test)"
   ]
  },
  {
   "cell_type": "markdown",
   "id": "c4b9cfa9",
   "metadata": {},
   "source": [
    "#### Logistic Regression"
   ]
  },
  {
   "cell_type": "code",
   "execution_count": 31,
   "id": "c8ed76ea",
   "metadata": {},
   "outputs": [],
   "source": [
    "# logistic regression model\n",
    "logreg = LogisticRegression().fit(x_train_norm, y_train)"
   ]
  },
  {
   "cell_type": "code",
   "execution_count": 32,
   "id": "01c15109",
   "metadata": {},
   "outputs": [
    {
     "name": "stdout",
     "output_type": "stream",
     "text": [
      "Train Score: 0.5984441192328429\n",
      "Test Score: 0.5963665492487651\n"
     ]
    }
   ],
   "source": [
    "# accuracy on train data\n",
    "print(\"Train Score:\", logreg.score(x_train_norm, y_train))\n",
    "# accuracy on test data\n",
    "print(\"Test Score:\", logreg.score(x_test_norm, y_test))"
   ]
  },
  {
   "cell_type": "markdown",
   "id": "ee39b295",
   "metadata": {},
   "source": [
    "#### Naive Bayes"
   ]
  },
  {
   "cell_type": "code",
   "execution_count": 33,
   "id": "cf7fc7be",
   "metadata": {},
   "outputs": [],
   "source": [
    "# train naive bayes model\n",
    "nb = GaussianNB().fit(x_train_norm, y_train)"
   ]
  },
  {
   "cell_type": "code",
   "execution_count": 34,
   "id": "ab17beb0",
   "metadata": {},
   "outputs": [
    {
     "name": "stdout",
     "output_type": "stream",
     "text": [
      "Train Score: 0.5648026906980924\n",
      "Test Score: 0.5639448307025562\n"
     ]
    }
   ],
   "source": [
    "# accuracy on train data\n",
    "print(\"Train Score:\", nb.score(x_train_norm, y_train))\n",
    "# accuracy on test data\n",
    "print(\"Test Score:\", nb.score(x_test_norm, y_test))"
   ]
  },
  {
   "cell_type": "markdown",
   "id": "cb43f223",
   "metadata": {},
   "source": [
    "#### Random Forest"
   ]
  },
  {
   "cell_type": "code",
   "execution_count": 35,
   "id": "61ef9d5d",
   "metadata": {},
   "outputs": [],
   "source": [
    "# train random forest model\n",
    "rf = RandomForestClassifier().fit(x_train_norm, y_train)"
   ]
  },
  {
   "cell_type": "code",
   "execution_count": 36,
   "id": "7fd7552c",
   "metadata": {},
   "outputs": [
    {
     "name": "stdout",
     "output_type": "stream",
     "text": [
      "Train Score: 0.7211070887570926\n",
      "Test Score: 0.7022275168681257\n"
     ]
    }
   ],
   "source": [
    "# accuracy on train data\n",
    "print(\"Train Score:\", rf.score(x_train_norm, y_train))\n",
    "# accuracy on test data\n",
    "print(\"Test Score:\", rf.score(x_test_norm, y_test))"
   ]
  },
  {
   "cell_type": "markdown",
   "id": "0a822692",
   "metadata": {},
   "source": [
    "#### Support Vector Machine"
   ]
  },
  {
   "cell_type": "code",
   "execution_count": 37,
   "id": "ce4aa078",
   "metadata": {},
   "outputs": [],
   "source": [
    "# reduced number of rows to decrease training time\n",
    "x_train_svc = x_train_norm[:80000]\n",
    "y_train_svc = y_train[:80000]\n",
    "x_test_svc = x_test_norm[:20000]\n",
    "y_test_svc = y_test[:20000]"
   ]
  },
  {
   "cell_type": "code",
   "execution_count": 38,
   "id": "04db3cf5",
   "metadata": {},
   "outputs": [],
   "source": [
    "# train svc model\n",
    "svc = SVC(random_state=101).fit(x_train_svc, y_train_svc)"
   ]
  },
  {
   "cell_type": "code",
   "execution_count": 39,
   "id": "0e331f4c",
   "metadata": {},
   "outputs": [
    {
     "name": "stdout",
     "output_type": "stream",
     "text": [
      "Train Score: 0.6697875\n",
      "Test Score: 0.6662\n"
     ]
    }
   ],
   "source": [
    "# accuracy on train data\n",
    "print(\"Train Score:\", svc.score(x_train_svc, y_train_svc))\n",
    "# accuracy on test data\n",
    "print(\"Test Score:\", svc.score(x_test_svc, y_test_svc))"
   ]
  },
  {
   "cell_type": "markdown",
   "id": "b0154577",
   "metadata": {},
   "source": [
    "Takes 1 hour to train 200,000 rows of data for 67% accuracy. Takes 15 minutes to train 100,000 rows for approximate same accuracy. Focus on Random forest classifier for sentence variety model."
   ]
  },
  {
   "cell_type": "markdown",
   "id": "b81621ad",
   "metadata": {},
   "source": [
    "#### Hyperparameter Tuning for Random Forest Classifier"
   ]
  },
  {
   "cell_type": "code",
   "execution_count": 40,
   "id": "6d1c888b",
   "metadata": {},
   "outputs": [],
   "source": [
    "# dictionary of hyperparameters for tuning\n",
    "param_dist = {'n_estimators': randint(50,500),\n",
    "              'max_depth': randint(1,20)}\n",
    "# create instance of random forest classifier\n",
    "rf = RandomForestClassifier()\n",
    "# find best hyperparameters\n",
    "rand_search = RandomizedSearchCV(rf, param_distributions = param_dist, n_iter=5, cv=5)"
   ]
  },
  {
   "cell_type": "code",
   "execution_count": 41,
   "id": "dc491bc7",
   "metadata": {},
   "outputs": [
    {
     "data": {
      "text/plain": [
       "RandomizedSearchCV(cv=5, estimator=RandomForestClassifier(), n_iter=5,\n",
       "                   param_distributions={'max_depth': <scipy.stats._distn_infrastructure.rv_discrete_frozen object at 0x7fbab7c0d0d0>,\n",
       "                                        'n_estimators': <scipy.stats._distn_infrastructure.rv_discrete_frozen object at 0x7fbab70d4820>})"
      ]
     },
     "execution_count": 41,
     "metadata": {},
     "output_type": "execute_result"
    }
   ],
   "source": [
    "# fit random search object\n",
    "rand_search.fit(x_train_norm, y_train)"
   ]
  },
  {
   "cell_type": "code",
   "execution_count": 42,
   "id": "fc2df1f6",
   "metadata": {},
   "outputs": [
    {
     "name": "stdout",
     "output_type": "stream",
     "text": [
      "Best hyperparameters: {'max_depth': 16, 'n_estimators': 80}\n"
     ]
    }
   ],
   "source": [
    "# best model\n",
    "best_rf = rand_search.best_estimator_\n",
    "# best hyperparameters\n",
    "print('Best hyperparameters:',  rand_search.best_params_)"
   ]
  },
  {
   "cell_type": "code",
   "execution_count": 43,
   "id": "7a583536",
   "metadata": {},
   "outputs": [
    {
     "name": "stdout",
     "output_type": "stream",
     "text": [
      "Train Score: 0.7134637603019333\n",
      "Test Score: 0.7022480564427511\n"
     ]
    }
   ],
   "source": [
    "# accuracy on train data\n",
    "print(\"Train Score:\", best_rf.score(x_train_norm, y_train))\n",
    "# accuracy on test data\n",
    "print(\"Test Score:\", best_rf.score(x_test_norm, y_test))"
   ]
  },
  {
   "cell_type": "markdown",
   "id": "ca3a61dc",
   "metadata": {},
   "source": [
    "#### Evaluation Metrics for Best Random Forest Classifier Model"
   ]
  },
  {
   "cell_type": "code",
   "execution_count": 44,
   "id": "21c287e0",
   "metadata": {},
   "outputs": [
    {
     "data": {
      "image/png": "[encoded data removed]",
      "text/plain": [
       "<Figure size 640x480 with 2 Axes>"
      ]
     },
     "metadata": {},
     "output_type": "display_data"
    }
   ],
   "source": [
    "# predictions\n",
    "y_pred = best_rf.predict(x_test_norm)\n",
    "\n",
    "# create confusion matrix\n",
    "cm = metrics.confusion_matrix(y_test, y_pred)\n",
    "\n",
    "# plot confusion matrix\n",
    "metrics.ConfusionMatrixDisplay(confusion_matrix=cm).plot()\n",
    "# plt.savefig(\"cm-sent_length.png\")\n",
    "plt.show()"
   ]
  },
  {
   "cell_type": "code",
   "execution_count": 45,
   "id": "436d4199",
   "metadata": {},
   "outputs": [
    {
     "name": "stdout",
     "output_type": "stream",
     "text": [
      "Accuracy: 0.7022480564427511\n",
      "Precision: 0.6141867979689183\n",
      "Recall: 0.5480859010270775\n"
     ]
    }
   ],
   "source": [
    "# accuracy, precision, recall scores\n",
    "accuracy = metrics.accuracy_score(y_test, y_pred)\n",
    "precision = metrics.precision_score(y_test, y_pred)\n",
    "recall = metrics.recall_score(y_test, y_pred)\n",
    "print(\"Accuracy:\", accuracy)\n",
    "print(\"Precision:\", precision)\n",
    "print(\"Recall:\", recall)"
   ]
  },
  {
   "cell_type": "markdown",
   "id": "6f3941be",
   "metadata": {},
   "source": [
    "### Models Based on TF-IDF"
   ]
  },
  {
   "cell_type": "markdown",
   "id": "657a99f5",
   "metadata": {},
   "source": [
    "#### Load Libraries"
   ]
  },
  {
   "cell_type": "code",
   "execution_count": 46,
   "id": "14ab308c",
   "metadata": {},
   "outputs": [],
   "source": [
    "import string\n",
    "import nltk\n",
    "from nltk.corpus import stopwords\n",
    "from sklearn.pipeline import Pipeline\n",
    "from sklearn.feature_extraction.text import CountVectorizer, TfidfTransformer\n",
    "from sklearn.naive_bayes import MultinomialNB"
   ]
  },
  {
   "cell_type": "code",
   "execution_count": 47,
   "id": "0aa5bf3b",
   "metadata": {},
   "outputs": [
    {
     "name": "stderr",
     "output_type": "stream",
     "text": [
      "[nltk_data] Downloading package stopwords to\n",
      "[nltk_data]     /Users/gillian/nltk_data...\n",
      "[nltk_data]   Package stopwords is already up-to-date!\n"
     ]
    },
    {
     "data": {
      "text/plain": [
       "True"
      ]
     },
     "execution_count": 47,
     "metadata": {},
     "output_type": "execute_result"
    }
   ],
   "source": [
    "nltk.download('stopwords')"
   ]
  },
  {
   "cell_type": "markdown",
   "id": "19cccb80",
   "metadata": {},
   "source": [
    "#### Preprocessing"
   ]
  },
  {
   "cell_type": "code",
   "execution_count": 48,
   "id": "5570d7f0",
   "metadata": {},
   "outputs": [],
   "source": [
    "# function to remove any newline tags\n",
    "def remove_tags(text):\n",
    "    tags = ['\\n\\n', '\\n', '\\'']\n",
    "    for tag in tags:\n",
    "            text = text.replace(tag, '')\n",
    "    return text\n",
    "\n",
    "# remove tags from text using function\n",
    "df1['text'] = df1['text'].apply(remove_tags)"
   ]
  },
  {
   "cell_type": "code",
   "execution_count": 49,
   "id": "5be19cdc",
   "metadata": {},
   "outputs": [],
   "source": [
    "# function to remove punctuation\n",
    "def remove_punc(text):\n",
    "    new_text = [x for x in text if x not in string.punctuation]\n",
    "    new_text = ''.join(new_text)\n",
    "    return new_text\n",
    "\n",
    "# remove punction from text using function\n",
    "df1['text'] = df1['text'].apply(remove_punc)"
   ]
  },
  {
   "cell_type": "code",
   "execution_count": 50,
   "id": "7e1fd698",
   "metadata": {},
   "outputs": [],
   "source": [
    "# function to remove stopwords\n",
    "def remove_stopwords(text):\n",
    "    stop_words = set(stopwords.words('english'))\n",
    "    words = nltk.word_tokenize(text)\n",
    "    filtered_words = [word for word in words if word.lower() not in stop_words]\n",
    "    filtered_words= ' '.join(filtered_words)\n",
    "    return filtered_words\n",
    "# remove stopwords from text data\n",
    "df1['text'] = df1['text'].apply(remove_stopwords)"
   ]
  },
  {
   "cell_type": "markdown",
   "id": "efdb75e9",
   "metadata": {},
   "source": [
    "#### Test/Train Split"
   ]
  },
  {
   "cell_type": "code",
   "execution_count": 51,
   "id": "8f516e4c",
   "metadata": {},
   "outputs": [],
   "source": [
    "# redefining x and y variables\n",
    "x = df1['text']\n",
    "y = df1['generated']\n",
    "# create test and train data\n",
    "x_train, x_test, y_train, y_test = train_test_split(x, y, random_state = 42, train_size = 0.80)"
   ]
  },
  {
   "cell_type": "code",
   "execution_count": 52,
   "id": "c0964bfa",
   "metadata": {},
   "outputs": [],
   "source": [
    "# abbreviated test/train data sets for intial model selection\n",
    "x_train2 = x_train[:80000]\n",
    "x_test2 = x_test[:20000]\n",
    "y_train2 = y_train[:80000]\n",
    "y_test2 = y_test[:20000]"
   ]
  },
  {
   "cell_type": "markdown",
   "id": "66c289ae",
   "metadata": {},
   "source": [
    "#### Baseline Dummy Classifier"
   ]
  },
  {
   "cell_type": "code",
   "execution_count": 53,
   "id": "26fd715b",
   "metadata": {},
   "outputs": [
    {
     "data": {
      "text/plain": [
       "0.6260359647951691"
      ]
     },
     "execution_count": 53,
     "metadata": {},
     "output_type": "execute_result"
    }
   ],
   "source": [
    "# create pipeline\n",
    "pipeline = Pipeline([\n",
    "    ('count_vectorizer', CountVectorizer()),\n",
    "    ('tfidf_transformer', TfidfTransformer()),\n",
    "    ('dummy', DummyClassifier())])\n",
    "# train dummy model\n",
    "pipeline.fit(x_train, y_train)\n",
    "# accuracy score\n",
    "dummy.score(x_test, y_test)"
   ]
  },
  {
   "cell_type": "markdown",
   "id": "44eed811",
   "metadata": {},
   "source": [
    "#### Random Forest Classifier"
   ]
  },
  {
   "cell_type": "code",
   "execution_count": 54,
   "id": "3bcddcbb",
   "metadata": {},
   "outputs": [
    {
     "data": {
      "text/plain": [
       "Pipeline(steps=[('count_vectorizer', CountVectorizer()),\n",
       "                ('tfidf_transformer', TfidfTransformer()),\n",
       "                ('rf', RandomForestClassifier())])"
      ]
     },
     "execution_count": 54,
     "metadata": {},
     "output_type": "execute_result"
    }
   ],
   "source": [
    "# create pipeline\n",
    "rf_pipe = Pipeline([\n",
    "    ('count_vectorizer', CountVectorizer()),\n",
    "    ('tfidf_transformer', TfidfTransformer()),\n",
    "    ('rf', RandomForestClassifier())])\n",
    "# train pipeline\n",
    "rf_pipe.fit(x_train2, y_train2)"
   ]
  },
  {
   "cell_type": "code",
   "execution_count": 55,
   "id": "b5927f16",
   "metadata": {},
   "outputs": [
    {
     "name": "stdout",
     "output_type": "stream",
     "text": [
      "Train Score: 1.0\n",
      "Test Score: 0.9892\n"
     ]
    }
   ],
   "source": [
    "# accuracy on train data\n",
    "print(\"Train Score:\", rf_pipe.score(x_train2, y_train2))\n",
    "# accuracy on test data\n",
    "print(\"Test Score:\", rf_pipe.score(x_test2, y_test2))"
   ]
  },
  {
   "cell_type": "code",
   "execution_count": 56,
   "id": "e28f98a6",
   "metadata": {},
   "outputs": [
    {
     "name": "stdout",
     "output_type": "stream",
     "text": [
      "Accuracy: 0.9892\n",
      "Precision: 0.9978234253843015\n",
      "Recall: 0.973457199734572\n"
     ]
    }
   ],
   "source": [
    "# predicted y value\n",
    "y_pred_rf = rf_pipe.predict(x_test2)\n",
    "# accuracy, precision, recall scores\n",
    "accuracy = metrics.accuracy_score(y_test2, y_pred_rf)\n",
    "precision = metrics.precision_score(y_test2, y_pred_rf)\n",
    "recall = metrics.recall_score(y_test2, y_pred_rf)\n",
    "print(\"Accuracy:\", accuracy)\n",
    "print(\"Precision:\", precision)\n",
    "print(\"Recall:\", recall)"
   ]
  },
  {
   "cell_type": "markdown",
   "id": "f4162eea",
   "metadata": {},
   "source": [
    "#### Support Vector Machine"
   ]
  },
  {
   "cell_type": "code",
   "execution_count": 57,
   "id": "4f18c118",
   "metadata": {},
   "outputs": [
    {
     "data": {
      "text/plain": [
       "Pipeline(steps=[('count_vectorizer', CountVectorizer()),\n",
       "                ('tfidf_transformer', TfidfTransformer()), ('svc', SVC())])"
      ]
     },
     "execution_count": 57,
     "metadata": {},
     "output_type": "execute_result"
    }
   ],
   "source": [
    "# create pipeline\n",
    "svc_pipe = Pipeline([\n",
    "    ('count_vectorizer', CountVectorizer()),\n",
    "    ('tfidf_transformer', TfidfTransformer()),\n",
    "    ('svc', SVC())])\n",
    "# train pipeline\n",
    "svc_pipe.fit(x_train2[:8000], y_train2[:8000])"
   ]
  },
  {
   "cell_type": "code",
   "execution_count": 58,
   "id": "27861b69",
   "metadata": {},
   "outputs": [
    {
     "name": "stdout",
     "output_type": "stream",
     "text": [
      "Train Score: 0.998625\n",
      "Test Score: 0.9785\n"
     ]
    }
   ],
   "source": [
    "# accuracy on train data\n",
    "print(\"Train Score:\", svc_pipe.score(x_train2[:8000], y_train2[:8000]))\n",
    "# accuracy on test data\n",
    "print(\"Test Score:\", svc_pipe.score(x_test2[:2000], y_test2[:2000]))"
   ]
  },
  {
   "cell_type": "code",
   "execution_count": 59,
   "id": "25e0a7f2",
   "metadata": {},
   "outputs": [
    {
     "name": "stdout",
     "output_type": "stream",
     "text": [
      "Accuracy: 0.9785\n",
      "Precision: 0.9818417639429312\n",
      "Recall: 0.9631043256997456\n"
     ]
    }
   ],
   "source": [
    "# predicted y value\n",
    "y_pred_svc = svc_pipe.predict(x_test[:2000])\n",
    "# acuuracy, precision, recall score\n",
    "accuracy = metrics.accuracy_score(y_test[:2000], y_pred_svc)\n",
    "precision = metrics.precision_score(y_test[:2000], y_pred_svc)\n",
    "recall = metrics.recall_score(y_test[:2000], y_pred_svc)\n",
    "print(\"Accuracy:\", accuracy)\n",
    "print(\"Precision:\", precision)\n",
    "print(\"Recall:\", recall)"
   ]
  },
  {
   "cell_type": "markdown",
   "id": "53781579",
   "metadata": {},
   "source": [
    "#### Naive Bayes"
   ]
  },
  {
   "cell_type": "code",
   "execution_count": 60,
   "id": "3bccef0a",
   "metadata": {},
   "outputs": [
    {
     "data": {
      "text/plain": [
       "Pipeline(steps=[('count_vectorizer', CountVectorizer()),\n",
       "                ('tfidf_transformer', TfidfTransformer()),\n",
       "                ('nb', MultinomialNB())])"
      ]
     },
     "execution_count": 60,
     "metadata": {},
     "output_type": "execute_result"
    }
   ],
   "source": [
    "# create pipeline\n",
    "nb_pipe = Pipeline([\n",
    "    ('count_vectorizer', CountVectorizer()),\n",
    "    ('tfidf_transformer', TfidfTransformer()),\n",
    "    ('nb', MultinomialNB())])\n",
    "# train pipeline\n",
    "nb_pipe.fit(x_train2, y_train2)"
   ]
  },
  {
   "cell_type": "code",
   "execution_count": 61,
   "id": "e16d0ef5",
   "metadata": {},
   "outputs": [
    {
     "name": "stdout",
     "output_type": "stream",
     "text": [
      "Train Score: 0.945175\n",
      "Test Score: 0.9372\n"
     ]
    }
   ],
   "source": [
    "# accuracy on train data\n",
    "print(\"Train Score:\", nb_pipe.score(x_train2, y_train2))\n",
    "# accuracy on test data\n",
    "print(\"Test Score:\", nb_pipe.score(x_test2, y_test2))"
   ]
  },
  {
   "cell_type": "code",
   "execution_count": 62,
   "id": "0b702d57",
   "metadata": {},
   "outputs": [
    {
     "name": "stdout",
     "output_type": "stream",
     "text": [
      "Accuracy: 0.9372\n",
      "Precision: 0.9893998441153546\n",
      "Recall: 0.8423357664233576\n"
     ]
    }
   ],
   "source": [
    "# predicted y value\n",
    "y_pred_nb = nb_pipe.predict(x_test2)\n",
    "# accuracy, precision, recall scores\n",
    "accuracy = metrics.accuracy_score(y_test2, y_pred_nb)\n",
    "precision = metrics.precision_score(y_test2, y_pred_nb)\n",
    "recall = metrics.recall_score(y_test2, y_pred_nb)\n",
    "print(\"Accuracy:\", accuracy)\n",
    "print(\"Precision:\", precision)\n",
    "print(\"Recall:\", recall)"
   ]
  },
  {
   "cell_type": "markdown",
   "id": "93d5c13d",
   "metadata": {},
   "source": [
    "#### Random Forest Classifier on Unabbreviated Train/Test Data"
   ]
  },
  {
   "cell_type": "code",
   "execution_count": 64,
   "id": "8ee4f50c",
   "metadata": {},
   "outputs": [
    {
     "data": {
      "text/plain": [
       "Pipeline(steps=[('count_vectorizer', CountVectorizer()),\n",
       "                ('tfidf_transformer', TfidfTransformer()),\n",
       "                ('rf', RandomForestClassifier())])"
      ]
     },
     "execution_count": 64,
     "metadata": {},
     "output_type": "execute_result"
    }
   ],
   "source": [
    "# train rf pipeline on unabbreviated data\n",
    "rf_pipe.fit(x_train, y_train)"
   ]
  },
  {
   "cell_type": "code",
   "execution_count": 65,
   "id": "a9579578",
   "metadata": {},
   "outputs": [
    {
     "name": "stdout",
     "output_type": "stream",
     "text": [
      "Train Score: 0.9999871626999409\n",
      "Test Score: 0.9985930391381594\n"
     ]
    }
   ],
   "source": [
    "# accuracy on train data\n",
    "print(\"Train Score:\", rf_pipe.score(x_train, y_train))\n",
    "# accuracy on test data\n",
    "print(\"Test Score:\", rf_pipe.score(x_test, y_test))"
   ]
  },
  {
   "cell_type": "code",
   "execution_count": 66,
   "id": "e40853fb",
   "metadata": {},
   "outputs": [
    {
     "name": "stdout",
     "output_type": "stream",
     "text": [
      "Accuracy: 0.9985930391381594\n",
      "Precision: 0.9995043097513288\n",
      "Recall: 0.9967320261437909\n"
     ]
    }
   ],
   "source": [
    "# predicted values\n",
    "y_pred_rf2 = rf_pipe.predict(x_test)\n",
    "# accuracy, precision, recall scores\n",
    "accuracy = metrics.accuracy_score(y_test, y_pred_rf2)\n",
    "precision = metrics.precision_score(y_test, y_pred_rf2)\n",
    "recall = metrics.recall_score(y_test, y_pred_rf2)\n",
    "print(\"Accuracy:\", accuracy)\n",
    "print(\"Precision:\", precision)\n",
    "print(\"Recall:\", recall)"
   ]
  },
  {
   "cell_type": "code",
   "execution_count": 67,
   "id": "43018c89",
   "metadata": {},
   "outputs": [
    {
     "data": {
      "image/png": "[encoded data removed]",
      "text/plain": [
       "<Figure size 640x480 with 2 Axes>"
      ]
     },
     "metadata": {},
     "output_type": "display_data"
    }
   ],
   "source": [
    "# create confusion matrix\n",
    "cm = metrics.confusion_matrix(y_test, y_pred_rf2)\n",
    "\n",
    "# plot confusion matrix\n",
    "metrics.ConfusionMatrixDisplay(confusion_matrix=cm).plot()\n",
    "# plt.savefig(\"cm-tfidf.png\")\n",
    "plt.show()"
   ]
  },
  {
   "cell_type": "markdown",
   "id": "f096b848",
   "metadata": {},
   "source": [
    "Models based on sentence length/variation trained much faster, with decent accuracy scores but poor recall and precision scores. The TF-IDF models took far longer to train, but were much more accurate and scored higher in recall and precision as well. "
   ]
  }
 ],
 "metadata": {
  "kernelspec": {
   "display_name": "Python 3 (ipykernel)",
   "language": "python",
   "name": "python3"
  },
  "language_info": {
   "codemirror_mode": {
    "name": "ipython",
    "version": 3
   },
   "file_extension": ".py",
   "mimetype": "text/x-python",
   "name": "python",
   "nbconvert_exporter": "python",
   "pygments_lexer": "ipython3",
   "version": "3.9.12"
  }
 },
 "nbformat": 4,
 "nbformat_minor": 5
}
